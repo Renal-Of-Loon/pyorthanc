{
 "cells": [
  {
   "metadata": {},
   "cell_type": "markdown",
   "source": [
    "# How to find data in an Orthanc server\n",
    "\n",
    "This notebook assume that you have `pyorthanc` installed and an Orthanc server run on your machine at `http://localhost:8042`.\n",
    "\n",
    "The easiest solution to install it is with docker, using: `docker run -p 8042:8042 -p 4242:4242 orthancteam/orthanc`\n"
   ],
   "id": "e7ff0682d7eb5e40"
  },
  {
   "metadata": {
    "collapsed": true,
    "ExecuteTime": {
     "end_time": "2025-01-14T18:20:20.854112Z",
     "start_time": "2025-01-14T18:20:20.760922Z"
    }
   },
   "cell_type": "code",
   "source": "import pyorthanc",
   "id": "initial_id",
   "outputs": [],
   "execution_count": 1
  },
  {
   "metadata": {
    "ExecuteTime": {
     "end_time": "2025-01-14T18:20:21.670120Z",
     "start_time": "2025-01-14T18:20:21.627933Z"
    }
   },
   "cell_type": "code",
   "source": [
    "# Creating the Orthanc client\n",
    "orthanc = pyorthanc.Orthanc(\n",
    "    url='http://localhost:8042',  # URL of you Orthanc server\n",
    "    username='orthanc',  # Using the default username\n",
    "    password='orthanc',  # Using the default password\n",
    ")"
   ],
   "id": "a042f22e7b929dbe",
   "outputs": [],
   "execution_count": 2
  },
  {
   "metadata": {},
   "cell_type": "markdown",
   "source": [
    "### Upload data\n",
    "If you Orthanc server doesn't have data, you can upload a few example from the `pydicom` library."
   ],
   "id": "9a5a269feeb8d5cf"
  },
  {
   "metadata": {
    "ExecuteTime": {
     "end_time": "2025-01-14T18:20:23.634081Z",
     "start_time": "2025-01-14T18:20:23.603077Z"
    }
   },
   "cell_type": "code",
   "source": [
    "from pydicom.data import get_testdata_file\n",
    "\n",
    "small_ct_path = get_testdata_file('CT_small.dcm')\n",
    "pyorthanc.upload(orthanc, small_ct_path)"
   ],
   "id": "eb89e76e418f467c",
   "outputs": [
    {
     "data": {
      "text/plain": [
       "{'ID': 'f689ddd2-662f8fe1-8b18180d-ec2a2cee-937917af',\n",
       " 'ParentPatient': 'fa558bce-587a86d3-ad0da9b3-9d043d9d-4f5c5718',\n",
       " 'ParentSeries': '93034833-163e42c3-bc9a428b-194620cf-2c5799e5',\n",
       " 'ParentStudy': '8a8cf898-ca27c490-d0c7058c-929d0581-2bbf104d',\n",
       " 'Path': '/instances/f689ddd2-662f8fe1-8b18180d-ec2a2cee-937917af',\n",
       " 'Status': 'Success'}"
      ]
     },
     "execution_count": 3,
     "metadata": {},
     "output_type": "execute_result"
    }
   ],
   "execution_count": 3
  },
  {
   "metadata": {},
   "cell_type": "markdown",
   "source": [
    "## Make queries to find you data\n",
    "\n",
    "Using `find_patients` allow you to find your patients efficiently, even on large datasets."
   ],
   "id": "d5d21735d39f3474"
  },
  {
   "metadata": {
    "ExecuteTime": {
     "end_time": "2025-01-14T18:30:21.559976Z",
     "start_time": "2025-01-14T18:30:21.547500Z"
    }
   },
   "cell_type": "code",
   "source": [
    "# \"patients\" is a list of \"pyorthanc.Patient\" objects that fit the query\n",
    "patients = pyorthanc.find_patients(\n",
    "    orthanc,\n",
    "    query={'PatientID': '*', 'PatientName': '*'}  # Here you can put the Main DICOM tags supported by Orthanc\n",
    ")\n",
    "print('Patients that fit the query:', patients)"
   ],
   "id": "35ecb139e7e05f9",
   "outputs": [
    {
     "name": "stdout",
     "output_type": "stream",
     "text": [
      "Patients that fit the query: [Patient(fa558bce-587a86d3-ad0da9b3-9d043d9d-4f5c5718)]\n"
     ]
    }
   ],
   "execution_count": 10
  },
  {
   "metadata": {
    "ExecuteTime": {
     "end_time": "2025-01-14T18:30:19.360448Z",
     "start_time": "2025-01-14T18:30:19.340384Z"
    }
   },
   "cell_type": "code",
   "source": [
    "# Studies, Series and instance data are also available through the pyorthanc.Patient object.\n",
    "for patient in patients:\n",
    "    print('Name:', patient.name)\n",
    "    for study in patient.studies:\n",
    "        print('Study date:', study.date)\n",
    "        for series in study.series:\n",
    "            ..."
   ],
   "id": "58ea7bd2672ec645",
   "outputs": [
    {
     "name": "stdout",
     "output_type": "stream",
     "text": [
      "Name: CompressedSamples^CT1\n",
      "Study date: 2004-01-19 07:27:30\n"
     ]
    }
   ],
   "execution_count": 9
  },
  {
   "metadata": {},
   "cell_type": "markdown",
   "source": "The other functions `find_studies`, `find_series` and `find_instances` are also useful to find your desired data!",
   "id": "18f547e06661a489"
  },
  {
   "metadata": {
    "ExecuteTime": {
     "end_time": "2025-01-14T18:31:08.095992Z",
     "start_time": "2025-01-14T18:31:08.087919Z"
    }
   },
   "cell_type": "code",
   "source": [
    "series = pyorthanc.find_series(\n",
    "    orthanc,\n",
    "    query={'PatientID': '*', 'Modality': 'CT'}  # Here you can put the Main DICOM tags supported by Orthanc\n",
    ")\n",
    "\n",
    "print('Series that fit the query:', series)"
   ],
   "id": "e02f6efd2feaab0d",
   "outputs": [
    {
     "name": "stdout",
     "output_type": "stream",
     "text": [
      "Series that fit the query: [Series(93034833-163e42c3-bc9a428b-194620cf-2c5799e5)]\n"
     ]
    }
   ],
   "execution_count": 11
  },
  {
   "metadata": {},
   "cell_type": "markdown",
   "source": "Note that it is possible to retrieve the DICOM instance Dataset from the `pyorthanc.Instance` object.",
   "id": "c12a57c61449241e"
  },
  {
   "metadata": {
    "ExecuteTime": {
     "end_time": "2025-01-14T18:33:50.410014Z",
     "start_time": "2025-01-14T18:33:50.384899Z"
    }
   },
   "cell_type": "code",
   "source": [
    "instance = series[0].instances[0]\n",
    "\n",
    "# Having the pydicom.Dataset object make it easier to do complex data operation.\n",
    "ds = instance.get_pydicom()\n",
    "print(ds.PatientID)\n",
    "print(ds.PatientName)\n",
    "print(ds.StudyDate)\n",
    "print(ds.Modality)\n",
    "..."
   ],
   "id": "e426c457daf69016",
   "outputs": [
    {
     "name": "stdout",
     "output_type": "stream",
     "text": [
      "1CT1\n",
      "CompressedSamples^CT1\n",
      "20040119\n",
      "CT\n"
     ]
    },
    {
     "data": {
      "text/plain": [
       "Ellipsis"
      ]
     },
     "execution_count": 13,
     "metadata": {},
     "output_type": "execute_result"
    }
   ],
   "execution_count": 13
  }
 ],
 "metadata": {
  "kernelspec": {
   "display_name": "Python 3",
   "language": "python",
   "name": "python3"
  },
  "language_info": {
   "codemirror_mode": {
    "name": "ipython",
    "version": 2
   },
   "file_extension": ".py",
   "mimetype": "text/x-python",
   "name": "python",
   "nbconvert_exporter": "python",
   "pygments_lexer": "ipython2",
   "version": "2.7.6"
  }
 },
 "nbformat": 4,
 "nbformat_minor": 5
}
