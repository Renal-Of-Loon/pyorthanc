{
 "cells": [
  {
   "metadata": {},
   "cell_type": "markdown",
   "source": [
    "# Interact with modalities connected to you Orthanc server\n",
    "\n",
    "This notebook assumes that you have `pyorthanc` installed and that you use the `pyorthanc` repo's `docker-compose.yml` setup.\n",
    "It starts a demo Orthanc server (`orthanc1`) accessible through `http://localhost:8042` with another orthanc (`orthanc2`) that will act as a modality connected to `orthanc1`.\n",
    "\n",
    "To start the two Orthanc server:\n",
    "1. Clone the `pyorthanc` repo and enter into it from your terminal\n",
    "```shell\n",
    "git clone https://github.com/gacou54/pyorthanc\n",
    "cd pyorthanc\n",
    "```\n",
    "2. Start the docker compose\n",
    "```shell\n",
    "docker compose up orthanc1 orthanc2\n",
    "```"
   ],
   "id": "e7ff0682d7eb5e40"
  },
  {
   "metadata": {},
   "cell_type": "markdown",
   "source": "## Creating a Orthanc client with a Modality",
   "id": "dbecfe380166481d"
  },
  {
   "metadata": {
    "ExecuteTime": {
     "end_time": "2025-01-21T14:04:09.507772Z",
     "start_time": "2025-01-21T14:04:09.367763Z"
    }
   },
   "cell_type": "code",
   "source": [
    "import pyorthanc\n",
    "\n",
    "# Creating the Orthanc client\n",
    "orthanc = pyorthanc.Orthanc(\n",
    "    url='http://localhost:8042',  # URL of you Orthanc server\n",
    "    username='orthanc',  # Using the default username\n",
    "    password='orthanc',  # Using the default password\n",
    ")"
   ],
   "id": "a042f22e7b929dbe",
   "outputs": [],
   "execution_count": 1
  },
  {
   "metadata": {},
   "cell_type": "markdown",
   "source": [
    "At this point, our PACS or second Orthanc server might not be connected to our main Orthanc server (`http://localhost:8042`) as a modality.\n",
    "You can verify the existing modalities with:"
   ],
   "id": "bcf649cbef159570"
  },
  {
   "metadata": {
    "ExecuteTime": {
     "end_time": "2025-01-21T14:04:09.517847Z",
     "start_time": "2025-01-21T14:04:09.512341Z"
    }
   },
   "cell_type": "code",
   "source": "orthanc.get_modalities()",
   "id": "be8ab745828a0a97",
   "outputs": [
    {
     "data": {
      "text/plain": [
       "['ORTHANC', 'my_modality']"
      ]
     },
     "execution_count": 2,
     "metadata": {},
     "output_type": "execute_result"
    }
   ],
   "execution_count": 2
  },
  {
   "metadata": {},
   "cell_type": "markdown",
   "source": [
    "In our example with the pyorthanc's docker-compose.yaml, `orthanc2` is still not connected as a modality.\n",
    "On a production Orthanc server, the modality should be configured in the Orthanc's config file, `orthanc.json`.\n",
    "In this case, we can add programmatically the modality using:"
   ],
   "id": "3cb89cf2d8aec904"
  },
  {
   "metadata": {
    "ExecuteTime": {
     "end_time": "2025-01-21T14:04:09.599534Z",
     "start_time": "2025-01-21T14:04:09.595038Z"
    }
   },
   "cell_type": "code",
   "source": [
    "# Programmatically add a modality (for production use, the modality configuration should be added in the config `orthanc.json`)\n",
    "orthanc.put_modalities_id('my_modality', {\n",
    "    'Host': 'orthanc2',\n",
    "    'Port': '4242',\n",
    "    'AET': 'ORTHANC',\n",
    "    'AllowEcho': True,\n",
    "    'AllowFind': True,\n",
    "    'AllowMove': True,\n",
    "    'AllowStore': True\n",
    "})\n",
    "\n",
    "# Verify if the new modality exists\n",
    "orthanc.get_modalities()"
   ],
   "id": "af3c19011d0181d9",
   "outputs": [
    {
     "data": {
      "text/plain": [
       "['ORTHANC', 'my_modality']"
      ]
     },
     "execution_count": 3,
     "metadata": {},
     "output_type": "execute_result"
    }
   ],
   "execution_count": 3
  },
  {
   "metadata": {},
   "cell_type": "markdown",
   "source": [
    "### Create a modality object\n",
    "The modality object (`pyorthanc.Modality`) is the easiest way to interact with Orthanc's connected modalities."
   ],
   "id": "9a5a269feeb8d5cf"
  },
  {
   "metadata": {
    "ExecuteTime": {
     "end_time": "2025-01-21T14:04:09.659703Z",
     "start_time": "2025-01-21T14:04:09.649815Z"
    }
   },
   "cell_type": "code",
   "source": [
    "my_modality = pyorthanc.Modality(orthanc, 'my_modality')\n",
    "\n",
    "assert my_modality.echo()  # Ask Orthanc to perform a C-ECHO (i.e. a ping) to the modality, validating the connection (returns True if OK)."
   ],
   "id": "eb89e76e418f467c",
   "outputs": [],
   "execution_count": 4
  },
  {
   "metadata": {},
   "cell_type": "markdown",
   "source": [
    "### Sending data from our Orthanc server to the other modality (C-STORE)\n",
    "Right now, the orthanc modality doesn't have any data. We can try out to send data with the DICOM C-STORE operation!\n",
    "\n",
    "For this, we need data in our Orthanc server:"
   ],
   "id": "7189050d6b5f6c32"
  },
  {
   "metadata": {
    "ExecuteTime": {
     "end_time": "2025-01-21T14:04:09.724318Z",
     "start_time": "2025-01-21T14:04:09.705713Z"
    }
   },
   "cell_type": "code",
   "source": [
    "from pydicom.data import get_testdata_file\n",
    "\n",
    "small_ct_path = get_testdata_file('CT_small.dcm')\n",
    "\n",
    "pyorthanc.upload(orthanc, small_ct_path)\n",
    "series = orthanc.get_series()\n",
    "assert series != []  # Ensure that we have data in our Orthanc server"
   ],
   "id": "20309cc8cb2b29dc",
   "outputs": [],
   "execution_count": 5
  },
  {
   "metadata": {},
   "cell_type": "markdown",
   "source": "Then, we can send the data from our Orthanc server to the modality (C-STORE).",
   "id": "851782635ebbf443"
  },
  {
   "metadata": {
    "ExecuteTime": {
     "end_time": "2025-01-21T14:04:09.797047Z",
     "start_time": "2025-01-21T14:04:09.761926Z"
    }
   },
   "cell_type": "code",
   "source": "my_modality.store(series[0])  # Here we simply send the first series that we queried above.",
   "id": "880a283861da34c0",
   "outputs": [
    {
     "data": {
      "text/plain": [
       "{'Description': 'REST API',\n",
       " 'FailedInstancesCount': 0,\n",
       " 'InstancesCount': 1,\n",
       " 'LocalAet': 'ORTHANC',\n",
       " 'ParentResources': ['93034833-163e42c3-bc9a428b-194620cf-2c5799e5'],\n",
       " 'RemoteAet': 'ORTHANC'}"
      ]
     },
     "execution_count": 6,
     "metadata": {},
     "output_type": "execute_result"
    }
   ],
   "execution_count": 6
  },
  {
   "metadata": {},
   "cell_type": "markdown",
   "source": [
    "### Querying data (C-FIND)\n",
    "A common workflow when working with an Orthanc server to another modality (such as a clinical PACS) is to find and retrieve data (C-FIND and C-MOVE in the DICOM language).\n",
    "\n",
    "Now that we have data in out connected modality `my_modality`, can query it. We first will delete the data in our Orthanc server."
   ],
   "id": "d5d21735d39f3474"
  },
  {
   "metadata": {
    "ExecuteTime": {
     "end_time": "2025-01-21T14:04:09.839553Z",
     "start_time": "2025-01-21T14:04:09.826466Z"
    }
   },
   "cell_type": "code",
   "source": [
    "for series_id in orthanc.get_series():\n",
    "    orthanc.delete_series_id(series_id)\n",
    "\n",
    "assert orthanc.get_series() == []"
   ],
   "id": "35ecb139e7e05f9",
   "outputs": [],
   "execution_count": 7
  },
  {
   "metadata": {},
   "cell_type": "markdown",
   "source": "Now, we can query the connected modality:",
   "id": "24a9c589f0ff1818"
  },
  {
   "metadata": {
    "ExecuteTime": {
     "end_time": "2025-01-21T14:04:09.898668Z",
     "start_time": "2025-01-21T14:04:09.882045Z"
    }
   },
   "cell_type": "code",
   "source": [
    "# The find function returns a query_id\n",
    "query_id = my_modality.find({\n",
    "    'Level': 'Series',\n",
    "    'Query': {'PatientID': '*', 'Modality': 'CT'},  # You can use the typical main DICOM tag here\n",
    "})\n",
    "\n",
    "# With the query_id, you can review the answers\n",
    "query_answers = my_modality.get_query_answers(query_id)\n",
    "print(query_answers)"
   ],
   "id": "5a9a90a7d3ecf8cd",
   "outputs": [
    {
     "name": "stdout",
     "output_type": "stream",
     "text": [
      "[{'AccessionNumber': '', 'Modality': 'CT', 'PatientID': '1CT1', 'QueryRetrieveLevel': 'SERIES', 'RetrieveAETitle': 'ORTHANC', 'SeriesInstanceUID': '1.3.6.1.4.1.5962.1.3.1.1.20040119072730.12322', 'SpecificCharacterSet': 'ISO_IR 100', 'StudyInstanceUID': '1.3.6.1.4.1.5962.1.2.1.20040119072730.12322'}]\n"
     ]
    }
   ],
   "execution_count": 8
  },
  {
   "metadata": {},
   "cell_type": "markdown",
   "source": [
    "### We can finally retrieve the DICOM data (C-MOVE) that we wish\n",
    "After the query (C-FIND), you may want to retrieve the data. It can be done using:"
   ],
   "id": "aabca435bb7b44fe"
  },
  {
   "metadata": {
    "ExecuteTime": {
     "end_time": "2025-01-21T14:04:09.985862Z",
     "start_time": "2025-01-21T14:04:09.946663Z"
    }
   },
   "cell_type": "code",
   "source": [
    "# At this point we don't have any data in our Orthanc server\n",
    "assert orthanc.get_series() == []\n",
    "\n",
    "my_modality.move(query_id)\n",
    "\n",
    "# We now have it once retrieve\n",
    "assert orthanc.get_series() != []\n",
    "\n",
    "# Note that you can also Move the data to a third DICOM server. Like\n",
    "my_modality.move(query_id, {'TargetAET': 'ORTHANC'})"
   ],
   "id": "fcca14dedb0645c9",
   "outputs": [
    {
     "data": {
      "text/plain": [
       "{'Description': 'REST API',\n",
       " 'LocalAet': 'ORTHANC',\n",
       " 'Query': [{'0008,0050': '',\n",
       "   '0008,0052': 'SERIES',\n",
       "   '0010,0020': '1CT1',\n",
       "   '0020,000d': '1.3.6.1.4.1.5962.1.2.1.20040119072730.12322',\n",
       "   '0020,000e': '1.3.6.1.4.1.5962.1.3.1.1.20040119072730.12322'}],\n",
       " 'RemoteAet': 'ORTHANC'}"
      ]
     },
     "execution_count": 9,
     "metadata": {},
     "output_type": "execute_result"
    }
   ],
   "execution_count": 9
  }
 ],
 "metadata": {
  "kernelspec": {
   "display_name": "Python 3",
   "language": "python",
   "name": "python3"
  },
  "language_info": {
   "codemirror_mode": {
    "name": "ipython",
    "version": 2
   },
   "file_extension": ".py",
   "mimetype": "text/x-python",
   "name": "python",
   "nbconvert_exporter": "python",
   "pygments_lexer": "ipython2",
   "version": "2.7.6"
  }
 },
 "nbformat": 4,
 "nbformat_minor": 5
}
